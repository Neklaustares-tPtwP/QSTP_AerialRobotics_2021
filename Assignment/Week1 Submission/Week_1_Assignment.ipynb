{
  "nbformat": 4,
  "nbformat_minor": 0,
  "metadata": {
    "colab": {
      "name": "Week 1 Assignment.ipynb",
      "provenance": [],
      "collapsed_sections": [],
      "authorship_tag": "ABX9TyO65FNxpWF27dVSKy7BdL2A",
      "include_colab_link": true
    },
    "kernelspec": {
      "name": "python3",
      "display_name": "Python 3"
    },
    "language_info": {
      "name": "python"
    }
  },
  "cells": [
    {
      "cell_type": "markdown",
      "metadata": {
        "id": "view-in-github",
        "colab_type": "text"
      },
      "source": [
        "<a href=\"https://colab.research.google.com/github/Neo-TheCondor/QSTP_AerialRobotics_2021/blob/main/Assignment/Week1%20Submission/Week_1_Assignment.ipynb\" target=\"_parent\"><img src=\"https://colab.research.google.com/assets/colab-badge.svg\" alt=\"Open In Colab\"/></a>"
      ]
    },
    {
      "cell_type": "code",
      "metadata": {
        "id": "Ij2XDGkQWml8"
      },
      "source": [
        "import math\n",
        "import numpy as np\n",
        "import matplotlib.pyplot as plt"
      ],
      "execution_count": 5,
      "outputs": []
    },
    {
      "cell_type": "code",
      "metadata": {
        "id": "XMhd8QD1ZHPq"
      },
      "source": [
        "def transformPoint(x, y, X, Y, Theta):\n",
        "    # algorithm\n",
        "    theta1 = math.cos(math.radians(Theta))\n",
        "    theta2 = math.sin(math.radians(Theta))\n",
        "\n",
        "    x_dash = (x-X)*theta1 + (y-Y)*theta2\n",
        "    y_dash = -1*(x-X)*theta2 + (y-Y)*theta1\n",
        "\n",
        "    return x_dash, y_dash"
      ],
      "execution_count": 6,
      "outputs": []
    },
    {
      "cell_type": "code",
      "metadata": {
        "id": "4HgHaI5xkvPo"
      },
      "source": [
        "class Frame():\n",
        "  def _init_(self, x, y):\n",
        "\n",
        "    self.x = x\n",
        "    self.y = y"
      ],
      "execution_count": 7,
      "outputs": []
    },
    {
      "cell_type": "code",
      "metadata": {
        "id": "rpK_9-vsWued"
      },
      "source": [
        "def plotAxis(x, y, X, Y, Theta):\n",
        "    # algorithm\n",
        "    \n",
        "    plt.plot(x, y, 'rx')\n",
        "\n",
        "    Theta = np.radians(Theta)\n",
        "\n",
        "    x_ = np.linspace(0, 2, 11)\n",
        "\n",
        "    plt.hlines(y=0, xmin=0, xmax=2)\n",
        "    plt.vlines(x=0, ymin=0, ymax=2)\n",
        "\n",
        "\n",
        "    if Theta == 0:\n",
        "      plt.hlines(y=Y, xmin=X, xmax=X+2, colors='y')\n",
        "      plt.vlines(x=X, ymin=Y, ymax=Y+2, colors='y')\n",
        "      return\n",
        "\n",
        "    Frame1 = Frame()\n",
        "\n",
        "    Frame1.x_ = math.tan(Theta) * x_ \n",
        "    Frame1.y_ = (1/math.tan(Theta)) * (x_)\n",
        "\n",
        "    plt.plot(x_ + X, Frame1.x_ + Y, 'y-')\n",
        "    plt.plot(-x_ + X, Frame1.y_ + Y, 'y-')\n",
        "    \n",
        "    plt.tight_layout()"
      ],
      "execution_count": 41,
      "outputs": []
    },
    {
      "cell_type": "code",
      "metadata": {
        "colab": {
          "base_uri": "https://localhost:8080/",
          "height": 314
        },
        "id": "or_G3w_ShPxc",
        "outputId": "df62cb18-8966-4032-da3d-00a42958d8c2"
      },
      "source": [
        "xnew,ynew = transformPoint(2,3,4,3,45)\n",
        "print(xnew,ynew)\n",
        "plotAxis(2,3,4,3,45)"
      ],
      "execution_count": 47,
      "outputs": [
        {
          "output_type": "stream",
          "text": [
            "-1.4142135623730951 1.414213562373095\n"
          ],
          "name": "stdout"
        },
        {
          "output_type": "display_data",
          "data": {
            "image/png": "[encoded data removed]",
            "text/plain": [
              "<Figure size 432x288 with 1 Axes>"
            ]
          },
          "metadata": {
            "tags": [],
            "needs_background": "light"
          }
        }
      ]
    }
  ]
}